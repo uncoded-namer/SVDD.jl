{
 "cells": [
  {
   "cell_type": "code",
   "execution_count": 1,
   "metadata": {},
   "outputs": [
    {
     "data": {
      "text/plain": [
       "generate_mvn_with_outliers (generic function with 4 methods)"
      ]
     },
     "execution_count": 1,
     "metadata": {},
     "output_type": "execute_result"
    }
   ],
   "source": [
    "using StatsBase, Distributions\n",
    "using Gurobi, Ipopt\n",
    "using Test\n",
    "using MLKernels\n",
    "using LinearAlgebra, Random\n",
    "using Suppressor\n",
    "using JuMP\n",
    "\n",
    "include(\"../src/SVDD.jl\")\n",
    "include(\"../test/test_utils.jl\")"
   ]
  },
  {
   "cell_type": "markdown",
   "metadata": {},
   "source": [
    "### Setup"
   ]
  },
  {
   "cell_type": "markdown",
   "metadata": {},
   "source": [
    "Generate data"
   ]
  },
  {
   "cell_type": "code",
   "execution_count": 2,
   "metadata": {},
   "outputs": [],
   "source": [
    "data, labels = generate_mvn_with_outliers(2, 100, 123, true, false);"
   ]
  },
  {
   "cell_type": "markdown",
   "metadata": {},
   "source": [
    "Initialize SVDD"
   ]
  },
  {
   "cell_type": "code",
   "execution_count": 3,
   "metadata": {},
   "outputs": [],
   "source": [
    "C_SVDD = 1.0\n",
    "\n",
    "pools = fill(:U, size(data,2));\n",
    "params = Dict(:C => C_SVDD)\n",
    "init_strategy = SVDD.FixedParameterInitialization(MLKernels.GaussianKernel(0.1), C_SVDD)\n",
    "\n",
    "#suppress deprecation warnings of MLKernels\n",
    "@suppress begin      \n",
    "    global svdd = SVDD.instantiate(SVDD.VanillaSVDD, data, pools, params)\n",
    "    SVDD.initialize!(svdd, init_strategy)\n",
    "end\n",
    "\n",
    "K = svdd.K;"
   ]
  },
  {
   "cell_type": "code",
   "execution_count": 4,
   "metadata": {},
   "outputs": [],
   "source": [
    "# some testing with JuMP 0.19-alpha because of regressions in v0.18.4\n",
    "function SVDD.solve!(model::SVDD.VanillaSVDD, solver)\n",
    "    QP = Model(with_optimizer(solver))\n",
    "    @variable(QP, 0 <= α[1:size(K,1)] <= model.C);\n",
    "\n",
    "    @objective(QP, Max, sum(α[i]*K[i,i] for i in eachindex(α)) - sum(α[i]*α[j] * K[i,j] for i in eachindex(α) for j in eachindex(α)));\n",
    "    @constraint(QP, sum(α) == 1);\n",
    "    @time JuMP.optimize!(QP)\n",
    "\n",
    "    model.alpha_values = JuMP.result_value.(α)\n",
    "    return JuMP.termination_status(QP)\n",
    "end"
   ]
  },
  {
   "cell_type": "code",
   "execution_count": 5,
   "metadata": {},
   "outputs": [
    {
     "name": "stdout",
     "output_type": "stream",
     "text": [
      "  9.093894 seconds (16.42 M allocations: 824.625 MiB, 7.22% gc time)\n"
     ]
    },
    {
     "data": {
      "text/plain": [
       "Success::TerminationStatusCode = 0"
      ]
     },
     "execution_count": 5,
     "metadata": {},
     "output_type": "execute_result"
    }
   ],
   "source": [
    "SVDD.fit!(svdd, Gurobi.Optimizer)"
   ]
  },
  {
   "cell_type": "markdown",
   "metadata": {},
   "source": [
    "#### SMO"
   ]
  },
  {
   "cell_type": "code",
   "execution_count": 6,
   "metadata": {},
   "outputs": [
    {
     "data": {
      "text/plain": [
       "takeStep! (generic function with 1 method)"
      ]
     },
     "execution_count": 6,
     "metadata": {},
     "output_type": "execute_result"
    }
   ],
   "source": [
    "function takeStep!(α, i1, i2, K, C_SVDD)\n",
    "    i1 == i2 && return false\n",
    "        \n",
    "    L = max(0, α[i1] + α[i2] - C_SVDD)\n",
    "    H = min(C_SVDD, α[i1] + α[i2])\n",
    "    (abs(L - H) < OPT_PRECISION) && return false\n",
    "    \n",
    "    Δ = α[i1] + α[i2]\n",
    "    C(i) = sum(α[j]*K[i,j] for j in eachindex(α) if !(j in [i1, i2]))\n",
    "\n",
    "    alpha2 = (2*Δ*(K[i1, i1] - K[i1,i2]) + C(i1) - C(i2) - K[i1, i1] + K[i2, i2]) / (2*K[i1,i1] - 4*K[i1,i2] + 2*K[i2,i2])\n",
    "                    \n",
    "    if alpha2 > H\n",
    "        alpha2 = H\n",
    "    elseif alpha2 < L \n",
    "        alpha2 = L\n",
    "    end\n",
    "\n",
    "    if abs(α[i2] - alpha2) < OPT_PRECISION * (alpha2 + α[i2] + OPT_PRECISION) # p. 10 Platt SMO\n",
    "        return false\n",
    "    else\n",
    "        alpha1 = Δ - alpha2\n",
    "        α[i1] = alpha1\n",
    "        α[i2] = alpha2              \n",
    "        return true\n",
    "    end\n",
    "end"
   ]
  },
  {
   "cell_type": "code",
   "execution_count": 7,
   "metadata": {},
   "outputs": [
    {
     "data": {
      "text/plain": [
       "update_model (generic function with 1 method)"
      ]
     },
     "execution_count": 7,
     "metadata": {},
     "output_type": "execute_result"
    }
   ],
   "source": [
    "function update_model(α, K, C_SVDD)\n",
    "    sv_larger_than_zero = α .> OPT_PRECISION \n",
    "    sv_smaller_than_C = α .< (C_SVDD - OPT_PRECISION)\n",
    "        \n",
    "    sv_larger_than_zero_idx = findall(sv_larger_than_zero)\n",
    "    const_term = sum(α[i] * α[j] * K[i,j] for i in sv_larger_than_zero_idx for j in sv_larger_than_zero_idx)\n",
    "    distances_to_center = [K[z, z] - 2 * sum(α[i] * K[i, z] for i in sv_larger_than_zero_idx) + const_term for z in eachindex(α)]\n",
    "    \n",
    "    ## see revisit to SVDD\n",
    "    if any(sv_larger_than_zero .& sv_smaller_than_C)\n",
    "        R = mean(distances_to_center[sv_larger_than_zero .& sv_smaller_than_C])\n",
    "    else\n",
    "        R = (minimum(distances_to_center[sv_larger_than_zero]) + maximum(distances_to_center[sv_larger_than_zero])) / 2\n",
    "    end\n",
    "\n",
    "    distances_to_decision_boundary = distances_to_center .- R\n",
    "    return (distances_to_center, distances_to_decision_boundary, R)\n",
    "end"
   ]
  },
  {
   "cell_type": "code",
   "execution_count": 8,
   "metadata": {},
   "outputs": [
    {
     "data": {
      "text/plain": [
       "violates_KKT_condition (generic function with 1 method)"
      ]
     },
     "execution_count": 8,
     "metadata": {},
     "output_type": "execute_result"
    }
   ],
   "source": [
    "function violates_KKT_condition(i2, distances_to_decision_boundary, α, C_SVDD)\n",
    "    p1 = (α[i2] > OPT_PRECISION) && (distances_to_decision_boundary[i2] < -OPT_PRECISION) # inlier, but alpha > 0\n",
    "    p2 = (α[i2] < C_SVDD - OPT_PRECISION) && (distances_to_decision_boundary[i2] > OPT_PRECISION) # outlier, but alpha != C\n",
    "    return p1 || p2\n",
    "end"
   ]
  },
  {
   "cell_type": "code",
   "execution_count": 9,
   "metadata": {},
   "outputs": [
    {
     "data": {
      "text/plain": [
       "second_choice_heuristic (generic function with 1 method)"
      ]
     },
     "execution_count": 9,
     "metadata": {},
     "output_type": "execute_result"
    }
   ],
   "source": [
    "function second_choice_heuristic(i2, α, distances_to_center, C_SVDD) # Eq. (4.8)\n",
    "    SV_nb = (α .> OPT_PRECISION) .& (α .< C_SVDD - OPT_PRECISION)\n",
    "    if !any(SV_nb)\n",
    "        SV_nb = α .> OPT_PRECISION\n",
    "    end\n",
    "    findall(SV_nb)[findmax(abs.(distances_to_center[i2] .- distances_to_center[SV_nb]))[2]] \n",
    "end"
   ]
  },
  {
   "cell_type": "code",
   "execution_count": 10,
   "metadata": {},
   "outputs": [
    {
     "data": {
      "text/plain": [
       "examineExample! (generic function with 1 method)"
      ]
     },
     "execution_count": 10,
     "metadata": {},
     "output_type": "execute_result"
    }
   ],
   "source": [
    "function examineExample!(α, i2, distances_to_center, C_SVDD, K)\n",
    "    \n",
    "    # use the second choice heuristic\n",
    "    i1 = second_choice_heuristic(i2, α, distances_to_center, C_SVDD)\n",
    "    takeStep!(α, i1, i2, K, C_SVDD) && return true\n",
    "\n",
    "    # loop over all non-zero and non-C alpha, starting at random position\n",
    "    candidates = findall((α .> OPT_PRECISION) .& (α .< C_SVDD - OPT_PRECISION))\n",
    "    if !isempty(candidates)\n",
    "        for i1 in shuffle(candidates)\n",
    "            takeStep!(α, i1, i2, K, C_SVDD) && return true\n",
    "        end\n",
    "    end\n",
    "    \n",
    "    # loop over all\n",
    "    for i1 in shuffle(eachindex(α))\n",
    "        takeStep!(α, i1, i2, K, C_SVDD) && return true\n",
    "    end\n",
    "    return false\n",
    "end"
   ]
  },
  {
   "cell_type": "code",
   "execution_count": 11,
   "metadata": {},
   "outputs": [
    {
     "data": {
      "text/plain": [
       "initialize_alpha (generic function with 1 method)"
      ]
     },
     "execution_count": 11,
     "metadata": {},
     "output_type": "execute_result"
    }
   ],
   "source": [
    "function initialize_alpha(data, C_SVDD)\n",
    "    n_init = trunc(Int, 1 / (C_SVDD)) + 1\n",
    "    α = fill(0.0, size(data,2))\n",
    "    α[sample(1:size(data,2), n_init, replace=false)] .= 1 / n_init\n",
    "    @assert sum(α) ≈ 1\n",
    "    @assert all(α .<= C_SVDD)\n",
    "    return α\n",
    "end"
   ]
  },
  {
   "cell_type": "code",
   "execution_count": 12,
   "metadata": {
    "scrolled": true
   },
   "outputs": [
    {
     "data": {
      "text/plain": [
       "smo (generic function with 1 method)"
      ]
     },
     "execution_count": 12,
     "metadata": {},
     "output_type": "execute_result"
    }
   ],
   "source": [
    "function smo(;max_iterations = 10000)\n",
    "    \n",
    "    α = initialize_alpha(data, C_SVDD)\n",
    "    distances_to_center, distances_to_decision_boundary, R = update_model(α, K, C_SVDD)\n",
    "    \n",
    "    iter = 0\n",
    "    \n",
    "    function build_result(status, msg)\n",
    "        println(\"Exit with status $status. (\" * msg * \")\")\n",
    "       (α, distances_to_decision_boundary, distances_to_center, R)\n",
    "    end\n",
    "    \n",
    "    while iter < max_iterations\n",
    "        black_list = Set{Int}()\n",
    "        iter += 1\n",
    "        \n",
    "        # scan over all data\n",
    "        KKT_violation_all_idx = filter(i -> violates_KKT_condition(i, distances_to_decision_boundary, α, C_SVDD) && i ∉ black_list, eachindex(α))\n",
    "        \n",
    "        isempty(KKT_violation_all_idx) && return build_result(:Optimal, \"No more KKT_violations.\")\n",
    "\n",
    "        i2 = sample(KKT_violation_all_idx)\n",
    "        if examineExample!(α, i2, distances_to_center, C_SVDD, K)\n",
    "            distances_to_center, distances_to_decision_boundary, R = update_model(α, K, C_SVDD)\n",
    "        else\n",
    "            push!(black_list, i2)\n",
    "        end\n",
    "\n",
    "        # scan over SV_nb\n",
    "        SV_nb = (α .> OPT_PRECISION) .& (α .< C_SVDD - OPT_PRECISION)\n",
    "        KKT_violations_in_SV_nb = filter(i -> violates_KKT_condition(i, distances_to_decision_boundary, α, C_SVDD) && i ∉ black_list, findall(SV_nb))\n",
    "        \n",
    "        while length(KKT_violations_in_SV_nb) > 0 && iter < max_iterations\n",
    "            iter += 1\n",
    "\n",
    "            i2 = sample(KKT_violations_in_SV_nb)\n",
    "            if examineExample!(α, i2, distances_to_center, C_SVDD, K)\n",
    "                distances_to_center, distances_to_decision_boundary, R = update_model(α, K, C_SVDD)\n",
    "            else\n",
    "                push!(black_list, i2)\n",
    "            end\n",
    "            KKT_violations_in_SV_nb = filter(i -> violates_KKT_condition(i, distances_to_decision_boundary, α, C_SVDD) && i ∉ black_list, findall(SV_nb))\n",
    "        end\n",
    "    end\n",
    "    \n",
    "    return build_result(:NotOptimal, \"Reached max number of iterations.\") \n",
    "end"
   ]
  },
  {
   "cell_type": "code",
   "execution_count": 13,
   "metadata": {},
   "outputs": [
    {
     "data": {
      "text/plain": [
       "0.01"
      ]
     },
     "execution_count": 13,
     "metadata": {},
     "output_type": "execute_result"
    }
   ],
   "source": [
    "OPT_PRECISION = 1e-2"
   ]
  },
  {
   "cell_type": "code",
   "execution_count": 14,
   "metadata": {},
   "outputs": [
    {
     "name": "stdout",
     "output_type": "stream",
     "text": [
      "Exit with status Optimal. (No more KKT_violations.)\n",
      "  3.211198 seconds (5.76 M allocations: 290.339 MiB, 6.35% gc time)\n"
     ]
    }
   ],
   "source": [
    "Random.seed!(4)\n",
    "@time α, distances_to_decision_boundary, distances_to_center, R = smo(max_iterations = 1000);"
   ]
  },
  {
   "cell_type": "code",
   "execution_count": 15,
   "metadata": {},
   "outputs": [
    {
     "name": "stdout",
     "output_type": "stream",
     "text": [
      "(primal_obj, dual_obj, duality_gap) = (0.016241665164839974, 0.013881659999715135, 0.0023600051651248392)\n"
     ]
    }
   ],
   "source": [
    "sv_larger_than_zero_idx = findall(α .> OPT_PRECISION)\n",
    "\n",
    "primal_obj = R + sum(distances_to_decision_boundary[distances_to_decision_boundary .> OPT_PRECISION] * C_SVDD)\n",
    "dual_obj = sum(α[i] * K[i,i] for i in sv_larger_than_zero_idx) - sum(α[i] * α[j] * K[i,j] for i in sv_larger_than_zero_idx for j in sv_larger_than_zero_idx)\n",
    "duality_gap = primal_obj - dual_obj\n",
    "            \n",
    "@show primal_obj, dual_obj, duality_gap;"
   ]
  }
 ],
 "metadata": {
  "kernelspec": {
   "display_name": "Julia 0.7.0",
   "language": "julia",
   "name": "julia-0.7"
  },
  "language_info": {
   "file_extension": ".jl",
   "mimetype": "application/julia",
   "name": "julia",
   "version": "0.6.3"
  }
 },
 "nbformat": 4,
 "nbformat_minor": 2
}
